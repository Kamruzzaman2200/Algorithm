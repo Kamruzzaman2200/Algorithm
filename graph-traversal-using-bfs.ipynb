{
 "cells": [
  {
   "cell_type": "code",
   "execution_count": 1,
   "id": "ac73bed0",
   "metadata": {
    "_cell_guid": "b1076dfc-b9ad-4769-8c92-a6c4dae69d19",
    "_uuid": "8f2839f25d086af736a60e9eeb907d3b93b6e0e5",
    "execution": {
     "iopub.execute_input": "2025-03-03T18:09:21.340160Z",
     "iopub.status.busy": "2025-03-03T18:09:21.339743Z",
     "iopub.status.idle": "2025-03-03T18:09:22.297113Z",
     "shell.execute_reply": "2025-03-03T18:09:22.296111Z"
    },
    "papermill": {
     "duration": 0.962762,
     "end_time": "2025-03-03T18:09:22.299048",
     "exception": false,
     "start_time": "2025-03-03T18:09:21.336286",
     "status": "completed"
    },
    "tags": []
   },
   "outputs": [],
   "source": [
    "# This Python 3 environment comes with many helpful analytics libraries installed\n",
    "# It is defined by the kaggle/python Docker image: https://github.com/kaggle/docker-python\n",
    "# For example, here's several helpful packages to load\n",
    "\n",
    "import numpy as np # linear algebra\n",
    "import pandas as pd # data processing, CSV file I/O (e.g. pd.read_csv)\n",
    "\n",
    "# Input data files are available in the read-only \"../input/\" directory\n",
    "# For example, running this (by clicking run or pressing Shift+Enter) will list all files under the input directory\n",
    "\n",
    "import os\n",
    "for dirname, _, filenames in os.walk('/kaggle/input'):\n",
    "    for filename in filenames:\n",
    "        print(os.path.join(dirname, filename))\n",
    "\n",
    "# You can write up to 20GB to the current directory (/kaggle/working/) that gets preserved as output when you create a version using \"Save & Run All\" \n",
    "# You can also write temporary files to /kaggle/temp/, but they won't be saved outside of the current session"
   ]
  },
  {
   "cell_type": "code",
   "execution_count": 2,
   "id": "af300b1e",
   "metadata": {
    "execution": {
     "iopub.execute_input": "2025-03-03T18:09:22.304378Z",
     "iopub.status.busy": "2025-03-03T18:09:22.303829Z",
     "iopub.status.idle": "2025-03-03T18:09:22.312936Z",
     "shell.execute_reply": "2025-03-03T18:09:22.311885Z"
    },
    "papermill": {
     "duration": 0.013644,
     "end_time": "2025-03-03T18:09:22.314782",
     "exception": false,
     "start_time": "2025-03-03T18:09:22.301138",
     "status": "completed"
    },
    "tags": []
   },
   "outputs": [
    {
     "name": "stdout",
     "output_type": "stream",
     "text": [
      "ABCDMLPKRYG"
     ]
    }
   ],
   "source": [
    "from collections import deque\n",
    "def bfs(graph,start):\n",
    "    visited=set()\n",
    "    queue=deque([start])\n",
    "    while queue:\n",
    "        node=queue.popleft()\n",
    "        if node not in visited:\n",
    "            print(node,end='')\n",
    "            visited.add(node)\n",
    "            queue.extend(graph[node])\n",
    "\n",
    "graph={\n",
    "        'A':['B','C'],\n",
    "    'B':['A','D','M'],\n",
    "    'C':['A','L','P'],\n",
    "    'D':['B'],\n",
    "    'M':['B','K'],\n",
    "    'L':['C','R'],\n",
    "    'P':['C','Y'],\n",
    "    'K':['M'],\n",
    "    'R':['L','G'],\n",
    "    'Y':['P'],\n",
    "    'G':['R']\n",
    "}\n",
    "\n",
    "bfs(graph,'A')\n"
   ]
  },
  {
   "cell_type": "code",
   "execution_count": null,
   "id": "28aaf015",
   "metadata": {
    "papermill": {
     "duration": 0.001504,
     "end_time": "2025-03-03T18:09:22.318273",
     "exception": false,
     "start_time": "2025-03-03T18:09:22.316769",
     "status": "completed"
    },
    "tags": []
   },
   "outputs": [],
   "source": []
  }
 ],
 "metadata": {
  "kaggle": {
   "accelerator": "none",
   "dataSources": [],
   "dockerImageVersionId": 30918,
   "isGpuEnabled": false,
   "isInternetEnabled": false,
   "language": "python",
   "sourceType": "notebook"
  },
  "kernelspec": {
   "display_name": "Python 3",
   "language": "python",
   "name": "python3"
  },
  "language_info": {
   "codemirror_mode": {
    "name": "ipython",
    "version": 3
   },
   "file_extension": ".py",
   "mimetype": "text/x-python",
   "name": "python",
   "nbconvert_exporter": "python",
   "pygments_lexer": "ipython3",
   "version": "3.10.12"
  },
  "papermill": {
   "default_parameters": {},
   "duration": 4.381649,
   "end_time": "2025-03-03T18:09:22.839621",
   "environment_variables": {},
   "exception": null,
   "input_path": "__notebook__.ipynb",
   "output_path": "__notebook__.ipynb",
   "parameters": {},
   "start_time": "2025-03-03T18:09:18.457972",
   "version": "2.6.0"
  }
 },
 "nbformat": 4,
 "nbformat_minor": 5
}
